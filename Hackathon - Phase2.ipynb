{
 "cells": [
  {
   "cell_type": "markdown",
   "metadata": {},
   "source": [
    "## Hackathon - Phase 2\n",
    "\n",
    "#### 1. Using the Matplotlib library, generate a Pie Chart to categorise student marks data in a CSV file into Distinction, First Class, Second Class, Third Class and Failed Categories(based on percentages). Explode the Distinction category.\n",
    "#### 2. Accessing the App data from App Store, generate the following Visualizations\n",
    "     * Pie Chart to categorise all app categories based on count\n",
    "     * For the Sports Category, generate a bar graph to show average rating for free vs paid app\n",
    "\n"
   ]
  },
  {
   "cell_type": "code",
   "execution_count": null,
   "metadata": {},
   "outputs": [],
   "source": [
    "import pandas as pd\n",
    "import matplotlib.pyplot as plt\n",
    "\n",
    "def readfiledata(filename):\n",
    "    with open (filename,'r') as marksfile:\n",
    "        sum=0\n",
    "        c=d=e=f=g=0\n",
    "        a=[]\n",
    "        for i in range(0,2000):\n",
    "            a.append(int(marksfile.readline()))\n",
    "        for i in range (0,len(a)):\n",
    "            if a[i]>=80:\n",
    "                c=c+1\n",
    "            if 60<=a[i]<80:\n",
    "                d=d+1\n",
    "            if 50<=a[i]<60:\n",
    "                e=e+1\n",
    "            if 40<=a[i]<50:\n",
    "                f=f+1\n",
    "            if a[i]<40:\n",
    "                g=g+1\n",
    "        print('Distinction  :',c)\n",
    "        print('First Class  :',d)\n",
    "        print('Second Class :',e)\n",
    "        print('Third Class  :',f)\n",
    "        print('Fail         :',g)\n",
    "\n",
    "    labels = 'Distinction', 'First Class', 'Second Class', 'Third Class','Fail'\n",
    "    sizes = [c,d,e,f,g]\n",
    "    colors = ['green', 'red', 'pink', 'blue','yellow']\n",
    "    explode = (0, 0, 0, 0, 0)  \n",
    "    plt.pie(sizes, explode=explode, labels=labels, colors=colors,\n",
    "    autopct='%1.1f%%', shadow=True, startangle=140)\n",
    "\n",
    "    plt.axis('equal')\n",
    "    plt.show()\n",
    "readfiledata('DataFiles/jai.csv')"
   ]
  }
 ],
 "metadata": {
  "kernelspec": {
   "display_name": "Python 3",
   "language": "python",
   "name": "python3"
  },
  "language_info": {
   "codemirror_mode": {
    "name": "ipython",
    "version": 3
   },
   "file_extension": ".py",
   "mimetype": "text/x-python",
   "name": "python",
   "nbconvert_exporter": "python",
   "pygments_lexer": "ipython3",
   "version": "3.6.5"
  }
 },
 "nbformat": 4,
 "nbformat_minor": 2
}
