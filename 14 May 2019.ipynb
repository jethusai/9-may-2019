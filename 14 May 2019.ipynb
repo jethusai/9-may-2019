{
 "cells": [
  {
   "cell_type": "markdown",
   "metadata": {},
   "source": [
    "# Problem Solving and Programming\n",
    "## Day-15\n",
    "## Date-14 May 2019"
   ]
  },
  {
   "cell_type": "markdown",
   "metadata": {},
   "source": [
    "### Day outcomes\n",
    "    *objective 1\n",
    "    *objective 2\n",
    "    *objective 3"
   ]
  },
  {
   "cell_type": "markdown",
   "metadata": {},
   "source": [
    "### Problem 1:\n",
    "\n",
    "#### Problem Statement\n",
    "For a given integer N, find the total number of  Non - Prime Factors in the range (1, N) (both exclusive) that do not contain the digit 0\n",
    "\n",
    "#### Constraints\n",
    "\n",
    "### Test cases\n",
    "    *nonPrimeFactorsCount( 100 ) -> 2\n",
    "    *nonPrimeFactorsCount( 50 )  -> 1\n",
    "    "
   ]
  },
  {
   "cell_type": "code",
   "execution_count": null,
   "metadata": {},
   "outputs": [],
   "source": []
  },
  {
   "cell_type": "markdown",
   "metadata": {},
   "source": [
    "### Problem 2:\n",
    "\n",
    "#### Problem Statement\n",
    "For a given integer N. Find the least positive integer X made up of only 9's and 0's, such that, X is a multiple of N.\n",
    "\n",
    "X is made up of one or more occurrences of 9 and zero or more occurrences of 0.\n",
    "\n",
    "#### Constraints\n",
    "\n",
    "### Test cases\n",
    "    *Multiple( 5 )  -> 90\n",
    "    *Multiple ( 7 )  -> 9009\n",
    "    *Multiple( 1 )  -> 9\n",
    "\n",
    "    "
   ]
  },
  {
   "cell_type": "code",
   "execution_count": 28,
   "metadata": {},
   "outputs": [
    {
     "name": "stdout",
     "output_type": "stream",
     "text": [
      "enter max limit10\n",
      "emter a number1\n",
      "9\n"
     ]
    }
   ],
   "source": [
    "from queue import Queue\n",
    "max=int(input(\"enter max limit\"))\n",
    "li= []\n",
    "n=int(input(\"emter a number\"))\n",
    "def zeroesAndNines():\n",
    "    global li\n",
    "    q = Queue()\n",
    "    q.put(\"9\")\n",
    "    for count in range(max, -1, -1):\n",
    "        s1 = q.queue[0]\n",
    "        q.get()\n",
    "        li.append(s1)\n",
    "        s2 = s1\n",
    "        s1 += \"0\"\n",
    "        q.put(s1)\n",
    "        s2 += \"9\"\n",
    "        q.put(s2)\n",
    "def minimumMultiple(n):\n",
    "    global li\n",
    "    for i in range(len(li)):\n",
    "        if (int(li[i]) % n == 0):\n",
    "            return li[i]\n",
    "zeroesAndNines()\n",
    "print(minimumMultiple(n))"
   ]
  },
  {
   "cell_type": "code",
   "execution_count": null,
   "metadata": {},
   "outputs": [],
   "source": []
  }
 ],
 "metadata": {
  "kernelspec": {
   "display_name": "Python 3",
   "language": "python",
   "name": "python3"
  },
  "language_info": {
   "codemirror_mode": {
    "name": "ipython",
    "version": 3
   },
   "file_extension": ".py",
   "mimetype": "text/x-python",
   "name": "python",
   "nbconvert_exporter": "python",
   "pygments_lexer": "ipython3",
   "version": "3.7.3"
  }
 },
 "nbformat": 4,
 "nbformat_minor": 2
}
